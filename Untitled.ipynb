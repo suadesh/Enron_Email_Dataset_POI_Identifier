{
 "cells": [
  {
   "cell_type": "code",
   "execution_count": 1,
   "metadata": {},
   "outputs": [
    {
     "name": "stderr",
     "output_type": "stream",
     "text": [
      "/Users/massi/anaconda/envs/DAND/lib/python2.7/site-packages/sklearn/cross_validation.py:44: DeprecationWarning: This module was deprecated in version 0.18 in favor of the model_selection module into which all the refactored classes and functions are moved. Also note that the interface of the new CV iterators are different from that of this module. This module will be removed in 0.20.\n",
      "  \"This module will be removed in 0.20.\", DeprecationWarning)\n"
     ]
    }
   ],
   "source": [
    "#!/usr/bin/python\n",
    "\n",
    "import sys\n",
    "import pickle\n",
    "import matplotlib.pyplot\n",
    "import numpy as np\n",
    "\n",
    "sys.path.append(\"../tools/\")\n",
    "sys.path.append(\"/Users/massi/Google_Drive/Perso/Data_Science/Udacity/ud120-projects-master/tools/\")\n",
    "\n",
    "from feature_format import featureFormat, targetFeatureSplit\n",
    "from tester import dump_classifier_and_data\n",
    "\n",
    "from sklearn.metrics import precision_score\n",
    "from sklearn.metrics import recall_score\n",
    "from sklearn import preprocessing\n",
    "from sklearn.pipeline import Pipeline\n",
    "from sklearn.feature_selection import SelectKBest\n",
    "from sklearn.model_selection import GridSearchCV\n",
    "from sklearn.ensemble import AdaBoostClassifier\n",
    "from sklearn.naive_bayes import GaussianNB\n",
    "\n",
    "### Task 1: Select what features you'll use.\n",
    "### features_list is a list of strings, each of which is a feature name.\n",
    "### The first feature must be \"poi\".\n",
    "\n",
    "features_list = ['poi',\n",
    "                 'salary',\n",
    "                 'to_messages',\n",
    "                 'deferral_payments',\n",
    "                 'total_payments',\n",
    "                 'deferred_income',\n",
    "                 'exercised_stock_options',\n",
    "                 'bonus',\n",
    "                 'restricted_stock',\n",
    "                 'expenses',\n",
    "                 'shared_receipt_with_poi',\n",
    "                 'restricted_stock_deferred',\n",
    "                 'total_stock_value',\n",
    "                 'loan_advances',\n",
    "                 'from_messages',\n",
    "                 'other',\n",
    "                 'from_this_person_to_poi',\n",
    "                 'director_fees',\n",
    "                 'long_term_incentive',\n",
    "                 'from_poi_to_this_person',\n",
    "                 'percent_to_poi',\n",
    "                 'percent_from_poi']"
   ]
  },
  {
   "cell_type": "code",
   "execution_count": 24,
   "metadata": {},
   "outputs": [
    {
     "name": "stdout",
     "output_type": "stream",
     "text": [
      "the dataset is composed of 146 person, with 18.0 person of interest.\n",
      "The Poi in the dataset are  12.3287671233 %\n",
      "the data det conatins 1358  missing values.\n"
     ]
    }
   ],
   "source": [
    "### Load the dictionary containing the dataset\n",
    "with open(\"final_project_dataset.pkl\", \"rb\") as data_file:\n",
    "    data_dict = pickle.load(data_file)\n",
    "\n",
    "#file = open(\"final_project_dataset.pkl\", 'rb')\n",
    "#data_dict = pickle.load(file)\n",
    "#file.close()\n",
    "\n",
    "### Task 2: Remove outliers\n",
    "\n",
    "# In the following lines I  will look deeper into the dataset \n",
    "npoi = 0.0\n",
    "nnpoi = 0.0\n",
    "for k , j in data_dict.items():\n",
    "    if j['poi'] == True:\n",
    "        npoi +=1 \n",
    "    else:\n",
    "        nnpoi +=1\n",
    "\n",
    "per = npoi/len(data_dict)*100.00\n",
    "\n",
    "print \"the dataset is composed of\", len(data_dict), \"person, with\" , npoi, \"person of interest.\"\n",
    "\n",
    "print \"The Poi in the dataset are \" , per,\"%\"\n",
    "\n",
    "missing = 0\n",
    "for k , j in data_dict.items():\n",
    "    for key , values in j.items():\n",
    "        if values == \"NaN\":\n",
    "            missing +=1 \n",
    "\n",
    "print  \"the data det conatins\" , missing, \" missing values.\" \n",
    "\n",
    "'''\n",
    "In this way I will remove Total that is not a person but the total in the\n",
    "dataset of all the employees. \n",
    "'''\n",
    "#print data_dict['TOTAL']\n",
    "data_dict.pop('TOTAL')\n",
    "data_dict.pop('THE TRAVEL AGENCY IN THE PARK')\n",
    "\n",
    "\n",
    "\n",
    "''' Possibile outliers that are keep in the data set. \n",
    "their value is imporant in training, most of them are poi. I tried without \n",
    "using them, once at the time and the result are worst than with them. \n",
    "data_dict.pop('LAY KENNETH L')\n",
    "data_dict.pop('HIRKO JOSEPH')\n",
    "data_dict.pop('SKILLING JEFFREY K')\n",
    "data_dict.pop('PAI LOU L')\n",
    "\n",
    "'''\n",
    "\n",
    "''' Features Available to investigate \n",
    "'salary','to_messages','deferral_payments','total_payments','deferred_income',\n",
    "'exercised_stock_options','bonus','restricted_stock','expenses',\n",
    "'shared_receipt_with_poi', 'restricted_stock_deferred','total_stock_value',\n",
    "'loan_advances','from_messages','other','from_this_person_to_poi',\n",
    "'director_fees','long_term_incentive','from_poi_to_this_person'\n",
    "\n",
    "'''\n",
    "\n",
    "'''\n",
    "This procedure will create 2 new variables, that are in a sort of way the \n",
    "percentage of the email received and sent to poi over the total emails. \n",
    "I will call them \"percent_to/from_poi\" \n",
    "'''\n",
    "for key, values in data_dict.items():\n",
    "    lista = [values['from_this_person_to_poi'],values['to_messages'],\n",
    "             values['from_poi_to_this_person'],values['from_messages']]\n",
    "    valori = []\n",
    "    for k in lista:\n",
    "        if k == 'NaN':\n",
    "            k = 0\n",
    "            valori.append(k)\n",
    "        else:\n",
    "            valori.append(float(k))\n",
    "    if valori[0] == 0 and valori[1] == 0: \n",
    "        pass\n",
    "    else:\n",
    "        percent_to_poi = valori[0]/(valori[1]+valori[0])\n",
    "    if valori[2] == 0 and valori[3] == 0 : \n",
    "        pass\n",
    "    else:\n",
    "        percent_from_poi = valori[2]/(valori[3]+valori[2])\n",
    "    values['percent_to_poi']= percent_to_poi\n",
    "    values['percent_from_poi']= percent_from_poi\n",
    "\n",
    "### Task 3: Create new feature(s)\n",
    "### Store to my_dataset for easy export below.\n",
    "my_dataset = data_dict\n",
    "\n",
    "### Extract features and labels from dataset for local testing\n",
    "data = featureFormat(my_dataset, features_list, sort_keys = True)\n",
    "\n",
    "labels, features = targetFeatureSplit(data)\n"
   ]
  },
  {
   "cell_type": "code",
   "execution_count": 4,
   "metadata": {},
   "outputs": [
    {
     "data": {
      "text/plain": [
       "{'bonus': 63,\n",
       " 'deferral_payments': 106,\n",
       " 'deferred_income': 96,\n",
       " 'director_fees': 128,\n",
       " 'email_address': 33,\n",
       " 'exercised_stock_options': 43,\n",
       " 'expenses': 50,\n",
       " 'from_messages': 58,\n",
       " 'from_poi_to_this_person': 58,\n",
       " 'from_this_person_to_poi': 58,\n",
       " 'loan_advances': 141,\n",
       " 'long_term_incentive': 79,\n",
       " 'other': 53,\n",
       " 'percent_from_poi': 0,\n",
       " 'percent_to_poi': 0,\n",
       " 'poi': 0,\n",
       " 'restricted_stock': 35,\n",
       " 'restricted_stock_deferred': 127,\n",
       " 'salary': 50,\n",
       " 'shared_receipt_with_poi': 58,\n",
       " 'to_messages': 58,\n",
       " 'total_payments': 21,\n",
       " 'total_stock_value': 19}"
      ]
     },
     "execution_count": 4,
     "metadata": {},
     "output_type": "execute_result"
    }
   ],
   "source": [
    "missing = {}\n",
    "for k , v in data_dict['LAY KENNETH L'].items():\n",
    "    missing[k]=0\n",
    "\n",
    "for k , v in data_dict.items():\n",
    "    for key , value in v.items() : \n",
    "        if value =='NaN':\n",
    "            missing[key] +=1 \n",
    "            \n",
    "missing "
   ]
  },
  {
   "cell_type": "code",
   "execution_count": 22,
   "metadata": {
    "collapsed": true
   },
   "outputs": [],
   "source": [
    "# dumped key that have a missing value over 60 \n",
    "\n",
    "features_list = ['poi',\n",
    "                 'exercised_stock_options',\n",
    "                 'expenses',\n",
    "                 'from_messages',\n",
    "                 'from_poi_to_this_person',\n",
    "                 'from_this_person_to_poi',\n",
    "                 'other',\n",
    "                 'percent_from_poi',\n",
    "                 'percent_to_poi',\n",
    "                 'restricted_stock',\n",
    "                 'salary',\n",
    "                 'shared_receipt_with_poi',\n",
    "                 'to_messages',\n",
    "                 'total_payments',\n",
    "                 'total_stock_value']\n",
    "\n"
   ]
  },
  {
   "cell_type": "code",
   "execution_count": 30,
   "metadata": {},
   "outputs": [
    {
     "name": "stdout",
     "output_type": "stream",
     "text": [
      "Optimal number of features : 12\n",
      "[ True  True  True  True  True  True False  True  True  True  True False\n",
      "  True  True]\n"
     ]
    },
    {
     "data": {
      "image/png": "[encoded data removed]",
      "text/plain": [
       "<matplotlib.figure.Figure at 0x10ba3c990>"
      ]
     },
     "metadata": {},
     "output_type": "display_data"
    }
   ],
   "source": [
    "import matplotlib.pyplot as plt\n",
    "from sklearn.cross_validation import StratifiedKFold\n",
    "from sklearn.feature_selection import RFECV\n",
    "from sklearn.model_selection import StratifiedShuffleSplit\n",
    "from sklearn.ensemble import AdaBoostClassifier\n",
    "\n",
    "clf= AdaBoostClassifier(learning_rate = 0.9,n_estimators=75)\n",
    "rfecv = RFECV(estimator=clf, step=1, cv=StratifiedShuffleSplit(n_splits=20, test_size=0.25, random_state=0),\n",
    "          scoring='precision')\n",
    "rfecv.fit(features, labels)\n",
    "print(\"Optimal number of features : %d\" % rfecv.n_features_)\n",
    "print rfecv.support_\n",
    "#features=features[:,rfecv.support_]\n",
    "# Plot number of features VS. cross-validation scores\n",
    "plt.figure()\n",
    "plt.xlabel(\"Number of features selected\")\n",
    "plt.ylabel(\"Cross validation score (nb of correct classifications)\")\n",
    "plt.plot(range(1, len(rfecv.grid_scores_) + 1), rfecv.grid_scores_)\n",
    "plt.show()"
   ]
  },
  {
   "cell_type": "code",
   "execution_count": null,
   "metadata": {
    "collapsed": true
   },
   "outputs": [],
   "source": [
    "from sklearn.model_selection import StratifiedShuffleSplit\n",
    "from sklearn.model_selection import GridSearchCV\n",
    "from sklearn.ensemble import AdaBoostClassifier\n",
    "\n",
    "ada = AdaBoostClassifier()\n",
    "cv = StratifiedShuffleSplit(n_splits=15, test_size=0.20, random_state=42)\n",
    "parameters = {'learning_rate':[0.5,0.7,0.8,0.9,1.0,1.1,1.2], \n",
    "                 'n_estimators':[50,75,100,150,200],\n",
    "                 'algorithm' : ['SAMME.R','SAMME']}\n",
    "clf = GridSearchCV(ada, parameters , cv=cv)\n",
    "\n",
    "clf.fit(features, labels)\n",
    "\n",
    "print(\"The best parameters are %s with a score of %0.2f\"\n",
    "      % (clf.best_params_, clf.best_score_))\n"
   ]
  },
  {
   "cell_type": "code",
   "execution_count": 6,
   "metadata": {
    "collapsed": true
   },
   "outputs": [],
   "source": [
    " data = featureFormat(my_dataset, features_list, sort_keys=True)\n",
    "# labels, features = targetFeatureSplit(data)\n",
    "# features_train, features_test, labels_train, labels_test = \\\n",
    "#     train_test_split(features, labels, train_size=.45, stratify=labels)\n",
    "#\n",
    "# skbest = SelectKBest(k=10)  # try best value to fit\n",
    "# sk_transform = skbest.fit_transform(features_train, labels_train)\n",
    "# indices = skbest.get_support(True)\n",
    "# print skbest.scores_\n",
    "#\n",
    "# n_list = ['poi']\n",
    "# for index in indices:\n",
    "#     print 'features: %s score: %f' % (features_list[index + 1], skbest.scores_[index])\n",
    "#     n_list.append(features_list[index + 1])"
   ]
  },
  {
   "cell_type": "code",
   "execution_count": 23,
   "metadata": {
    "collapsed": true
   },
   "outputs": [],
   "source": [
    "### Task 4: Try a varity of classifiers\n",
    "### Please name your classifier clf for easy export below.\n",
    "### Note that if you want to do PCA or other multi-stage operations,\n",
    "### you'll need to use Pipelines. For more info:\n",
    "### http://scikit-learn.org/stable/modules/pipeline.html\n",
    "\n",
    "# Provided to give you a starting point. Try a variety of classifiers.\n"
   ]
  },
  {
   "cell_type": "code",
   "execution_count": 50,
   "metadata": {},
   "outputs": [
    {
     "name": "stdout",
     "output_type": "stream",
     "text": [
      "Tester Classification report\n",
      "Pipeline(steps=[('SKB', SelectKBest(k=8, score_func=<function f_classif at 0x113c22938>)), ('Adaboost', AdaBoostClassifier(algorithm='SAMME.R', base_estimator=None,\n",
      "          learning_rate=0.7, n_estimators=50, random_state=None))])\n",
      "\tAccuracy: 0.82867\tPrecision: 0.32098\tRecall: 0.25550\tF1: 0.28452\tF2: 0.26637\n",
      "\tTotal predictions: 15000\tTrue positives:  511\tFalse positives: 1081\tFalse negatives: 1489\tTrue negatives: 11919\n",
      "\n",
      "None\n"
     ]
    }
   ],
   "source": [
    "from sklearn.ensemble import AdaBoostClassifier\n",
    "ada= AdaBoostClassifier()\n",
    "from sklearn.model_selection import StratifiedShuffleSplit\n",
    "from sklearn.model_selection import GridSearchCV\n",
    "skb = SelectKBest(k=8)\n",
    "pipeline =  Pipeline(steps=[(\"SKB\", skb),(\"Adaboost\", ada)])\n",
    "cv = StratifiedShuffleSplit(n_splits=20, test_size=0.25, random_state=42)\n",
    "\n",
    "parameters = {'Adaboost__learning_rate':[0.5,0.7,0.8,0.9,1.0,1.1,1.2], \n",
    "                 'Adaboost__n_estimators':[50,75,100,150,200]}\n",
    "\n",
    "grid = GridSearchCV(pipeline ,param_grid=parameters, cv=cv)\n",
    "grid.fit(features, labels)\n",
    "clf = grid.best_estimator_\n",
    "\n",
    "\n",
    "#rsult = clf.cv_results_\n",
    "#print \"features importance :\" , clf.feature_importances_\n",
    "\n",
    "### Task 6: Dump your classifier, dataset, and features_list so anyone can\n",
    "### check your results. You do not need to change anything below, but make sure\n",
    "### that the version of poi_id.py that you submit can be run on its own and\n",
    "### generates the necessary .pkl files for validating your results.\n",
    "\n",
    "dump_classifier_and_data(clf, my_dataset, features_list)\n",
    "\n",
    "from tester import test_classifier\n",
    "print \"Tester Classification report\"\n",
    "print test_classifier(clf, my_dataset, features_list)\n"
   ]
  },
  {
   "cell_type": "code",
   "execution_count": 25,
   "metadata": {
    "scrolled": true
   },
   "outputs": [
    {
     "name": "stdout",
     "output_type": "stream",
     "text": [
      "Tester Classification report\n",
      "AdaBoostClassifier(algorithm='SAMME.R', base_estimator=None,\n",
      "          learning_rate=0.7, n_estimators=100, random_state=None)\n",
      "\tAccuracy: 0.82060\tPrecision: 0.29544\tRecall: 0.24950\tF1: 0.27053\tF2: 0.25751\n",
      "\tTotal predictions: 15000\tTrue positives:  499\tFalse positives: 1190\tFalse negatives: 1501\tTrue negatives: 11810\n",
      "\n",
      "None\n"
     ]
    }
   ],
   "source": [
    "from sklearn.ensemble import AdaBoostClassifier\n",
    "clf = AdaBoostClassifier(learning_rate = 0.7,n_estimators=100)\n",
    "\n",
    "dump_classifier_and_data(clf, my_dataset, features_list)\n",
    "from tester import test_classifier\n",
    "print \"Tester Classification report\"\n",
    "print test_classifier(clf, my_dataset, features_list)"
   ]
  },
  {
   "cell_type": "code",
   "execution_count": 19,
   "metadata": {
    "scrolled": true
   },
   "outputs": [
    {
     "name": "stdout",
     "output_type": "stream",
     "text": [
      "Tester Classification report\n",
      "AdaBoostClassifier(algorithm='SAMME.R', base_estimator=None,\n",
      "          learning_rate=0.9, n_estimators=100, random_state=None)\n",
      "\tAccuracy: 0.81687\tPrecision: 0.28981\tRecall: 0.25750\tF1: 0.27270\tF2: 0.26337\n",
      "\tTotal predictions: 15000\tTrue positives:  515\tFalse positives: 1262\tFalse negatives: 1485\tTrue negatives: 11738\n",
      "\n",
      "None\n"
     ]
    }
   ],
   "source": [
    "from sklearn.ensemble import AdaBoostClassifier\n",
    "clf = AdaBoostClassifier(learning_rate = 0.9,n_estimators=100,algorithm = 'SAMME.R' )\n",
    "\n",
    "dump_classifier_and_data(clf, my_dataset, features_list)\n",
    "from tester import test_classifier\n",
    "print \"Tester Classification report\"\n",
    "print test_classifier(clf, my_dataset, features_list)"
   ]
  },
  {
   "cell_type": "code",
   "execution_count": null,
   "metadata": {
    "collapsed": true
   },
   "outputs": [],
   "source": []
  },
  {
   "cell_type": "code",
   "execution_count": 14,
   "metadata": {
    "scrolled": true
   },
   "outputs": [
    {
     "name": "stdout",
     "output_type": "stream",
     "text": [
      "Optimal number of features : 7\n",
      "[ True  True False False  True  True False False False  True  True False\n",
      " False  True]\n"
     ]
    },
    {
     "data": {
      "image/png": "[encoded data removed]",
      "text/plain": [
       "<matplotlib.figure.Figure at 0x10e098310>"
      ]
     },
     "metadata": {},
     "output_type": "display_data"
    }
   ],
   "source": [
    "\n",
    "import matplotlib.pyplot as plt\n",
    "from sklearn.feature_selection import RFECV\n",
    "from sklearn.model_selection import StratifiedShuffleSplit\n",
    "from sklearn.ensemble import AdaBoostClassifier\n",
    "\n",
    "clf= AdaBoostClassifier(learning_rate = 0.5,n_estimators=50)\n",
    "rfecv = RFECV(estimator=clf, step=1, cv=StratifiedShuffleSplit(n_splits=20, test_size=0.25, random_state=0),\n",
    "          scoring='precision')\n",
    "rfecv.fit(features, labels)\n",
    "print(\"Optimal number of features : %d\" % rfecv.n_features_)\n",
    "print rfecv.support_\n",
    "#features=features[:,rfecv.support_]\n",
    "# Plot number of features VS. cross-validation scores\n",
    "plt.figure()\n",
    "plt.xlabel(\"Number of features selected\")\n",
    "plt.ylabel(\"Cross validation score (nb of correct classifications)\")\n",
    "plt.plot(range(1, len(rfecv.grid_scores_) + 1), rfecv.grid_scores_)\n",
    "plt.show()\n",
    "\n"
   ]
  },
  {
   "cell_type": "code",
   "execution_count": 25,
   "metadata": {
    "scrolled": true
   },
   "outputs": [
    {
     "name": "stdout",
     "output_type": "stream",
     "text": [
      "Optimal number of features : 7\n",
      "[ True  True  True False  True  True False False False  True  True False\n",
      " False False]\n"
     ]
    },
    {
     "data": {
      "image/png": "[encoded data removed]",
      "text/plain": [
       "<matplotlib.figure.Figure at 0x113fcc350>"
      ]
     },
     "metadata": {},
     "output_type": "display_data"
    }
   ],
   "source": [
    "\n",
    "import matplotlib.pyplot as plt\n",
    "from sklearn.cross_validation import StratifiedKFold\n",
    "from sklearn.feature_selection import RFECV\n",
    "from sklearn.model_selection import StratifiedShuffleSplit\n",
    "from sklearn.ensemble import AdaBoostClassifier\n",
    "\n",
    "clf= AdaBoostClassifier(learning_rate = 0.5,n_estimators=100,algorithm = 'SAMME' )\n",
    "rfecv = RFECV(estimator=clf, step=1, cv=StratifiedShuffleSplit(n_splits=20, test_size=0.25, random_state=0),\n",
    "          scoring='precision')\n",
    "rfecv.fit(features, labels)\n",
    "print(\"Optimal number of features : %d\" % rfecv.n_features_)\n",
    "print rfecv.support_\n",
    "#features=features[:,rfecv.support_]\n",
    "# Plot number of features VS. cross-validation scores\n",
    "plt.figure()\n",
    "plt.xlabel(\"Number of features selected\")\n",
    "plt.ylabel(\"Cross validation score (nb of correct classifications)\")\n",
    "plt.plot(range(1, len(rfecv.grid_scores_) + 1), rfecv.grid_scores_)\n",
    "plt.show()\n",
    "\n"
   ]
  },
  {
   "cell_type": "code",
   "execution_count": 10,
   "metadata": {},
   "outputs": [
    {
     "name": "stdout",
     "output_type": "stream",
     "text": [
      "The best parameters are {'n_estimators': 150, 'learning_rate': 0.5, 'algorithm': 'SAMME'} with a score of 0.86\n"
     ]
    }
   ],
   "source": [
    "\n",
    "from sklearn.model_selection import StratifiedShuffleSplit\n",
    "from sklearn.model_selection import GridSearchCV\n",
    "from sklearn.ensemble import AdaBoostClassifier\n",
    "\n",
    "ada = AdaBoostClassifier()\n",
    "cv = StratifiedShuffleSplit(n_splits=30, test_size=0.20, random_state=42)\n",
    "parameters = {'learning_rate':[0.5,0.7,0.8,0.9,1.0,1.1,1.2], \n",
    "                 'n_estimators':[50,75,100,150,200],\n",
    "                 'algorithm' : ['SAMME.R','SAMME']}\n",
    "clf = GridSearchCV(ada, parameters , cv=cv)\n",
    "\n",
    "clf.fit(features, labels)\n",
    "\n",
    "print(\"The best parameters are %s with a score of %0.2f\"\n",
    "      % (clf.best_params_, clf.best_score_))"
   ]
  },
  {
   "cell_type": "code",
   "execution_count": 23,
   "metadata": {},
   "outputs": [
    {
     "name": "stdout",
     "output_type": "stream",
     "text": [
      "[  2.50975415e+01   6.23420114e+00   1.64164498e-01   5.34494152e+00\n",
      "   2.42650813e+00   4.24615354e+00   5.43963902e+00   1.50525747e-02\n",
      "   9.34670079e+00   1.85757033e+01   8.74648553e+00   1.69882435e+00\n",
      "   8.87383526e+00   2.44676540e+01]\n",
      "exercised_stock_options : 25.0975415287\n",
      "expenses : 6.23420114051\n",
      "restricted_stock : 9.34670079105\n",
      "salary : 18.575703268\n",
      "shared_receipt_with_poi : 8.74648553213\n",
      "total_payments : 8.87383525552\n",
      "total_stock_value : 24.4676540475\n",
      "['poi', 'exercised_stock_options', 'expenses', 'restricted_stock', 'salary', 'shared_receipt_with_poi', 'total_payments', 'total_stock_value']\n"
     ]
    }
   ],
   "source": [
    "skb = SelectKBest(k=7)\n",
    "skb.fit_transform(features, labels)\n",
    "index = skb.get_support(True)\n",
    "print skb.scores_\n",
    "\n",
    "new_features_list = ['poi']\n",
    "for i in index:\n",
    "    new_features_list.append(features_list[i + 1])\n",
    "    print features_list[i + 1], \":\",  skb.scores_[i]\n",
    "    \n",
    "print new_features_list\n",
    "features_list = new_features_list\n"
   ]
  },
  {
   "cell_type": "code",
   "execution_count": 7,
   "metadata": {},
   "outputs": [
    {
     "name": "stdout",
     "output_type": "stream",
     "text": [
      "Tester Classification report\n",
      "Pipeline(steps=[('SKB', SelectKBest(k=8, score_func=<function f_classif at 0x1176be938>)), ('Adaboost', AdaBoostClassifier(algorithm='SAMME.R', base_estimator=None,\n",
      "          learning_rate=0.9, n_estimators=100, random_state=None))])\n",
      "\tAccuracy: 0.82920\tPrecision: 0.32438\tRecall: 0.25950\tF1: 0.28833\tF2: 0.27031\n",
      "\tTotal predictions: 15000\tTrue positives:  519\tFalse positives: 1081\tFalse negatives: 1481\tTrue negatives: 11919\n",
      "\n",
      "None\n"
     ]
    }
   ],
   "source": [
    "from sklearn.ensemble import AdaBoostClassifier\n",
    "ada= AdaBoostClassifier(learning_rate = 0.9,n_estimators=100,algorithm = 'SAMME.R' )\n",
    "skb = SelectKBest(k=8)\n",
    "clf =  Pipeline(steps=[(\"SKB\", skb),(\"Adaboost\", ada)])\n",
    "dump_classifier_and_data(clf, my_dataset, features_list)\n",
    "\n",
    "from tester import test_classifier\n",
    "print \"Tester Classification report\"\n",
    "print test_classifier(clf, my_dataset, features_list)\n",
    "\n"
   ]
  },
  {
   "cell_type": "code",
   "execution_count": 4,
   "metadata": {
    "collapsed": true
   },
   "outputs": [],
   "source": [
    "features_list = ['poi',\n",
    "                 'exercised_stock_options',\n",
    "                 'total_stock_value',\n",
    "                 'expenses',\n",
    "                 'deferred_income',\n",
    "                 'salary',\n",
    "                 'from_this_person_to_poi',\n",
    "                 #'from_poi_to_this_person',\n",
    "                 #'percent_to_poi',\n",
    "                 'percent_from_poi']"
   ]
  }
 ],
 "metadata": {
  "kernelspec": {
   "display_name": "Python [conda env:DAND]",
   "language": "python",
   "name": "conda-env-DAND-py"
  },
  "language_info": {
   "codemirror_mode": {
    "name": "ipython",
    "version": 2
   },
   "file_extension": ".py",
   "mimetype": "text/x-python",
   "name": "python",
   "nbconvert_exporter": "python",
   "pygments_lexer": "ipython2",
   "version": "2.7.13"
  }
 },
 "nbformat": 4,
 "nbformat_minor": 2
}
